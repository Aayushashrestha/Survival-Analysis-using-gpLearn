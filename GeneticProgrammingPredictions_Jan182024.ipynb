{
 "cells": [
  {
   "cell_type": "code",
   "execution_count": null,
   "id": "5df9eb13-f79c-4d66-a514-1418a389ad49",
   "metadata": {},
   "outputs": [],
   "source": [
    "pip install numpy"
   ]
  },
  {
   "cell_type": "code",
   "execution_count": null,
   "id": "9f555b52-5168-40cf-9c04-93afce20b0f0",
   "metadata": {},
   "outputs": [],
   "source": [
    "pip install pandas "
   ]
  },
  {
   "cell_type": "code",
   "execution_count": null,
   "id": "aa71d175-d7c9-4a35-b9b2-eb79cee107f8",
   "metadata": {},
   "outputs": [],
   "source": [
    "pip install gplearn"
   ]
  },
  {
   "cell_type": "code",
   "execution_count": null,
   "id": "07a770e8-1f50-407a-9b20-2c1dafd4447e",
   "metadata": {
    "scrolled": true
   },
   "outputs": [],
   "source": [
    "pip install matplotlib"
   ]
  },
  {
   "cell_type": "code",
   "execution_count": null,
   "id": "ff217b8b-d5a6-4556-9a3f-ed5845c304a9",
   "metadata": {},
   "outputs": [],
   "source": [
    "import numpy as np\n",
    "import pandas as pd\n",
    "from gplearn.genetic import SymbolicRegressor\n",
    "from sklearn.model_selection import train_test_split\n",
    "from sklearn.preprocessing import OneHotEncoder\n",
    "from sklearn.metrics import mean_squared_error\n",
    "from sklearn.tree import DecisionTreeRegressor"
   ]
  },
  {
   "cell_type": "code",
   "execution_count": null,
   "id": "72f65a01-05f2-465e-becf-48a606aa5350",
   "metadata": {},
   "outputs": [],
   "source": [
    "dataset_survival = pd.read_csv('/database/', encoding=\"latin1\", low_memory=False)\n",
    "dataset_survival.drop(columns=dataset_survival.columns[0], axis=1, inplace=True)\n",
    "dataset_survival.head(10)"
   ]
  },
  {
   "cell_type": "code",
   "execution_count": null,
   "id": "227de534-d364-4963-95be-28a50475a753",
   "metadata": {},
   "outputs": [],
   "source": [
    "dummy_cols = dataset_survival.select_dtypes(include = ['object']).columns.to_list()"
   ]
  },
  {
   "cell_type": "code",
   "execution_count": null,
   "id": "bb580d5d-6c68-45be-9c9c-4d7e0e6e0b7d",
   "metadata": {},
   "outputs": [],
   "source": [
    "train_data = pd.get_dummies(data=dataset_survival, columns=dummy_cols, drop_first = True, dtype = int)\n",
    "train_data.head(10)"
   ]
  },
  {
   "cell_type": "code",
   "execution_count": null,
   "id": "7ce0c88f-fbbf-44c1-acf9-8c66e1d02a13",
   "metadata": {},
   "outputs": [],
   "source": [
    "# Create a DataFrame\n",
    "# df = pd.DataFrame(data)\n",
    "df = pd.DataFrame(dataset_survival)"
   ]
  },
  {
   "cell_type": "code",
   "execution_count": null,
   "id": "b8ce0825-5649-49da-b59a-15fda819de49",
   "metadata": {},
   "outputs": [],
   "source": [
    "df.isnull().sum(axis=1)"
   ]
  },
  {
   "cell_type": "code",
   "execution_count": null,
   "id": "8360c8bc-29d3-461a-9b16-16167f1ff60c",
   "metadata": {},
   "outputs": [],
   "source": [
    "df.columns"
   ]
  },
  {
   "cell_type": "code",
   "execution_count": null,
   "id": "b0607d64-33a4-4616-9640-be2cdf3985ff",
   "metadata": {},
   "outputs": [],
   "source": [
    "df = df.fillna(0)  # Replace 0 with any other constant as needed"
   ]
  },
  {
   "cell_type": "code",
   "execution_count": null,
   "id": "7d61db77-c282-4e25-bf93-b57e6b60fcf0",
   "metadata": {},
   "outputs": [],
   "source": [
    "total_nulls = df.isnull().sum().sum()\n",
    "print(f\"Total null values in the DataFrame: {total_nulls}\")"
   ]
  },
  {
   "cell_type": "code",
   "execution_count": null,
   "id": "6e960e70-0fec-453d-9b7b-88b4a2b974e7",
   "metadata": {},
   "outputs": [],
   "source": [
    "# Define your target variable and features\n",
    "y = train_data['DAYS']\n",
    "X = train_data.drop('DAYS', axis=1)"
   ]
  },
  {
   "cell_type": "code",
   "execution_count": null,
   "id": "3c9abc20-8f29-41bc-aaaa-f568b1be979f",
   "metadata": {},
   "outputs": [],
   "source": [
    "# Initialize the DecisionTreeRegressor\n",
    "dtree = DecisionTreeRegressor(random_state=42)"
   ]
  },
  {
   "cell_type": "code",
   "execution_count": null,
   "id": "63b6ac74-d480-47cc-b3fa-2eb1d34dcc7a",
   "metadata": {},
   "outputs": [],
   "source": [
    "# Fit the model\n",
    "dtree.fit(X, y)"
   ]
  },
  {
   "cell_type": "code",
   "execution_count": null,
   "id": "569424ab-4257-437d-96ce-e73b04427ffc",
   "metadata": {},
   "outputs": [],
   "source": [
    "# Get feature importances\n",
    "importances = dtree.feature_importances_"
   ]
  },
  {
   "cell_type": "code",
   "execution_count": null,
   "id": "9fa33edd-ef90-43a1-964f-fb8edc91331a",
   "metadata": {},
   "outputs": [],
   "source": [
    "# Create a DataFrame for easier handling\n",
    "feature_importance_df = pd.DataFrame({\n",
    "    'Feature': X.columns,\n",
    "    'Importance': importances\n",
    "})"
   ]
  },
  {
   "cell_type": "code",
   "execution_count": null,
   "id": "3508a70a-201d-41d1-bab1-54855056f350",
   "metadata": {},
   "outputs": [],
   "source": [
    "# Sort the DataFrame by importance in descending order and select top 5\n",
    "top_5_features = feature_importance_df.sort_values(by='Importance', ascending=False).head(10)\n",
    "\n",
    "# Display the top 5 features\n",
    "print(top_5_features)"
   ]
  },
  {
   "cell_type": "code",
   "execution_count": null,
   "id": "68fd70e8-501c-4bd2-95e8-6d8012999fe4",
   "metadata": {},
   "outputs": [],
   "source": [
    "if 'REC_PRETX_DIAL' in df.columns:\n",
    "    print(\"Column 'column_name' exists in the DataFrame.\")\n",
    "else:\n",
    "    print(\"Column 'column_name' does not exist in the DataFrame.\")\n"
   ]
  },
  {
   "cell_type": "code",
   "execution_count": null,
   "id": "ec06c75b-bc0e-4f62-a010-2847d99f7b57",
   "metadata": {},
   "outputs": [],
   "source": [
    "col_name = ['REC_CMV_STAT','DON_HIST_HYPERTEN', 'DON_RACE', 'CAN_LAST_SRTR_PEAK_PRA','REC_AGE_AT_TX_CAT', 'REC_MED_COND.5', 'CAN_PEPTIC_ULCER', 'DON_HIST_DIAB', 'REC_MED_COND.7', 'REC_PRETX_DIAL']\n",
    "target_col = ['DAYS'] \n",
    "X = df[col_name]\n",
    "y = df[target_col]  # y contains only the 'DAYS' column\n",
    "\n",
    "x_num = df[col_name].to_numpy()\n",
    "y_num = df[target_col].to_numpy()  # y contains only the 'DAYS' column"
   ]
  },
  {
   "cell_type": "code",
   "execution_count": null,
   "id": "ba1b61e7-d8e9-4134-97e6-47c95b7f9c9a",
   "metadata": {},
   "outputs": [],
   "source": [
    "import matplotlib.pyplot as plt\n",
    "\n",
    "# plot the histogram of the 'WEEKS' column\n",
    "df[target_col].hist(bins=50, figsize=(10, 5))  # Adjust bins and figsize as needed\n",
    "\n",
    "# Label your axes and give the plot a title\n",
    "plt.xlabel('Days')\n",
    "plt.ylabel('Frequency')\n",
    "plt.title('Histogram of Survival Time in Weeks')\n",
    "\n",
    "# Display the plot\n",
    "plt.show()"
   ]
  },
  {
   "cell_type": "code",
   "execution_count": null,
   "id": "3c97554e-dab1-48c3-a4b2-e9c8f88a9329",
   "metadata": {},
   "outputs": [],
   "source": [
    "import matplotlib.pyplot as plt\n",
    "import seaborn as sns\n",
    "\n",
    "# Using seaborn's distplot function which includes a density plot (kde)\n",
    "sns.distplot(df['DAYS'], hist=False, kde=True, \n",
    "             kde_kws={'shade': True, 'linewidth': 3})\n",
    "\n",
    "# Alternatively, using pandas to create a density plot\n",
    "# df['WEEKS'].plot(kind='density', linewidth=2)\n",
    "\n",
    "# Set labels and title\n",
    "plt.xlabel('Days')\n",
    "plt.ylabel('Density')\n",
    "plt.title('Density Plot of Survival Time in Weeks')\n",
    "\n",
    "# Display the plot\n",
    "plt.show()\n"
   ]
  },
  {
   "cell_type": "code",
   "execution_count": null,
   "id": "36515bfe-4817-442f-8430-89de34c0144a",
   "metadata": {},
   "outputs": [],
   "source": [
    "import seaborn as sns\n",
    "import matplotlib.pyplot as plt\n",
    "\n",
    "# Calculate Q1, Q3 and IQR\n",
    "Q1 = df['DAYS'].quantile(0.25)\n",
    "Q3 = df['DAYS'].quantile(0.75)\n",
    "IQR = Q3 - Q1\n",
    "\n",
    "# Define bounds\n",
    "lower_bound = Q1 - 1.5 * IQR\n",
    "upper_bound = Q3 + 1.5 * IQR\n",
    "\n",
    "# Filter the data\n",
    "filtered_df = df[(df['DAYS'] >= lower_bound) & (df['DAYS'] <= upper_bound)]\n",
    "\n",
    "# Plot the filtered data\n",
    "sns.kdeplot(filtered_df['DAYS'], fill=True)\n",
    "plt.title('Density Plot of Survival Time in Weeks without Outliers')\n",
    "plt.xlabel('Days')\n",
    "plt.ylabel('Density')\n",
    "plt.show()"
   ]
  },
  {
   "cell_type": "code",
   "execution_count": null,
   "id": "7a21767d-94a8-4982-9c9a-cddbd3e29b08",
   "metadata": {},
   "outputs": [],
   "source": [
    "#col_name = ['GL','REC_BMI','REC_AGE_AT_TX', 'DON_BMI', 'REC_BMI', 'DON_AGE', 'DON_RACE', 'CAN_RACE']\n",
    "col_name = ['REC_CMV_STAT','DON_HIST_HYPERTEN', 'DON_RACE', 'CAN_LAST_SRTR_PEAK_PRA','REC_AGE_AT_TX_CAT', 'REC_MED_COND.5', 'CAN_PEPTIC_ULCER', 'DON_HIST_DIAB', 'REC_MED_COND.7', 'REC_PRETX_DIAL']\n",
    "df['YEARS'] = df['DAYS']/365.0\n",
    "target_col = ['YEARS'] \n",
    "X = df[col_name]\n",
    "y = df[target_col]  # y contains only the 'DAYS' column"
   ]
  },
  {
   "cell_type": "code",
   "execution_count": null,
   "id": "975722a8-e559-4d28-bd63-295748a6aaac",
   "metadata": {},
   "outputs": [],
   "source": [
    "# Perform one-hot encoding for categorical variables\n",
    "X_encoded = pd.get_dummies(X)"
   ]
  },
  {
   "cell_type": "code",
   "execution_count": null,
   "id": "9b18471e-f059-4562-8f3c-035456a52c8d",
   "metadata": {},
   "outputs": [],
   "source": [
    "# Split the data into training and testing sets\n",
    "X_train, X_test, y_train, y_test = train_test_split(X_encoded, y, test_size=0.2, random_state=42)\n",
    "X_train.shape, X_test.shape, y_train.shape, y_test.shape"
   ]
  },
  {
   "cell_type": "code",
   "execution_count": null,
   "id": "68248081-06d9-47d5-ab74-20402b22f3f9",
   "metadata": {},
   "outputs": [],
   "source": [
    "import pandas as pd\n",
    "\n",
    "# Define a function to hash non-numeric values\n",
    "def hash_non_numeric(x):\n",
    "    if isinstance(x, str) and not x.isnumeric():\n",
    "        return hash(x) # You can choose a different hash function if needed\n",
    "    else:\n",
    "        return x\n",
    "\n",
    "# Loop through the columns to process\n",
    "for col in col_name + target_col:\n",
    "    df[col] = df[col].apply(hash_non_numeric)\n",
    "\n",
    "# Convert the hashed values to numeric\n",
    "for col in col_name:\n",
    "    df[col] = pd.to_numeric(df[col], errors='coerce')  # This will replace hashed values with NaN\n",
    "\n",
    "df = df.dropna(subset=col_name + target_col)  # Drop rows with NaN values if needed\n",
    "df.head(5)\n",
    "\n"
   ]
  },
  {
   "cell_type": "code",
   "execution_count": null,
   "id": "a1db3ef0-7ddd-4dfe-abdf-f214e8798d70",
   "metadata": {},
   "outputs": [],
   "source": [
    "x_num = df[col_name].to_numpy()\n",
    "y_num = df[target_col].to_numpy()  "
   ]
  },
  {
   "cell_type": "code",
   "execution_count": null,
   "id": "02bc6808-2de5-4284-9d92-50d421c1e654",
   "metadata": {},
   "outputs": [],
   "source": [
    "from gplearn.fitness import make_fitness\n",
    "\n",
    "def _mape(y, y_pred, w):\n",
    "   \n",
    "    diffs = np.abs(np.divide((np.maximum(0.001, y) - np.maximum(0.001, y_pred)),\n",
    "                             np.maximum(0.001, y)))\n",
    "    return 100. * np.average(diffs, weights=w)\n",
    "\n",
    "def _mse(y, y_pred, w):\n",
    "    return mean_squared_error(y, y_pred, sample_weight=w)\n",
    "    \n",
    "\n",
    "mape = make_fitness(function=_mape, greater_is_better=False)\n",
    "mse  = make_fitness(function=_mse, greater_is_better=False)\n",
    "\n",
    "# Create a SymbolicRegressor and fit the model to the training data\n",
    "est_gp = SymbolicRegressor(population_size=50,\n",
    "                           generations=1000, stopping_criteria=4,\n",
    "                           p_crossover=0.7, p_subtree_mutation=0.1,\n",
    "                           p_hoist_mutation=0.05, p_point_mutation=0.1,\n",
    "                           max_samples=0.9, verbose=1, \n",
    "                           n_jobs=5,\n",
    "                           parsimony_coefficient=0.01, random_state=0, metric=mse)"
   ]
  },
  {
   "cell_type": "code",
   "execution_count": null,
   "id": "115f4c1f-a721-4d82-9e9f-052d717c7404",
   "metadata": {},
   "outputs": [],
   "source": [
    "# Fit the model\n",
    "op = est_gp.fit(x_num, y_num)\n",
    "op"
   ]
  },
  {
   "cell_type": "code",
   "execution_count": null,
   "id": "3d874c97-94bf-40c2-aa46-304fa80fd623",
   "metadata": {},
   "outputs": [],
   "source": [
    "# Check if the model is fitted\n",
    "if est_gp._program is None:\n",
    "    print(\"Model is not fitted. Please fit the model before visualization.\")\n",
    "else:\n",
    "    # Predict on the testing set\n",
    "    y_pred = est_gp.predict(x_num)\n",
    "    print(y_pred)\n"
   ]
  },
  {
   "cell_type": "code",
   "execution_count": null,
   "id": "83819973-22fc-46c5-889f-fe09784301c1",
   "metadata": {},
   "outputs": [],
   "source": [
    "first_two_rows = df.iloc[:2]\n",
    "ac_predict = first_two_rows[target_col]\n",
    "print('acp',ac_predict)\n",
    "first_two_rows = first_two_rows[col_name]\n",
    "print(first_two_rows[col_name])"
   ]
  },
  {
   "cell_type": "code",
   "execution_count": null,
   "id": "c2e852d6-19d8-4af8-87d6-65d76b60e496",
   "metadata": {},
   "outputs": [],
   "source": [
    "predictions = est_gp.predict(first_two_rows)\n",
    "predictions"
   ]
  },
  {
   "cell_type": "code",
   "execution_count": null,
   "id": "b6506da7-f3bf-4a51-b3a7-7db38c2e4c1d",
   "metadata": {},
   "outputs": [],
   "source": [
    "# Evaluate the model (e.g., using mean squared error)\n",
    "mse = mean_squared_error(y_num, y_pred)\n",
    "print('Mean Squared Error:', mse)"
   ]
  },
  {
   "cell_type": "code",
   "execution_count": null,
   "id": "45ec376b-cb22-49bf-8ca4-9fb5da124b85",
   "metadata": {},
   "outputs": [],
   "source": []
  }
 ],
 "metadata": {
  "kernelspec": {
   "display_name": "Python 3 (ipykernel)",
   "language": "python",
   "name": "python3"
  },
  "language_info": {
   "codemirror_mode": {
    "name": "ipython",
    "version": 3
   },
   "file_extension": ".py",
   "mimetype": "text/x-python",
   "name": "python",
   "nbconvert_exporter": "python",
   "pygments_lexer": "ipython3",
   "version": "3.11.2"
  }
 },
 "nbformat": 4,
 "nbformat_minor": 5
}
